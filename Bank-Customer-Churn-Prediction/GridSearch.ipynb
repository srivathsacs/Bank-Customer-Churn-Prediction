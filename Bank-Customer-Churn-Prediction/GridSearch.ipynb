{
 "cells": [
  {
   "cell_type": "code",
   "execution_count": null,
   "metadata": {},
   "outputs": [],
   "source": [
    "from sklearn.model_selection import GridSearchCV\n",
    "from sklearn.metrics import accuracy_score\n",
    "from keras.wrappers.scikit_learn import KerasClassifier\n",
    "from keras.models import Sequential\n",
    "from keras.layers import Dense\n",
    "from keras.layers import Dropout\n",
    "import tensorflow as tf\n",
    "\n",
    "parameters = {'batch_size': [25, 32, 64],\n",
    "              'epochs': [25, 50, 75, 100],\n",
    "              'optimizer': ['SGD', 'adam', 'rmsprop']}\n",
    "\n",
    "'''Defining parameters for GridSearch and building KerasClassifier which will be fed as an estimator for GridSearch.\n",
    "a) Dropout is used as Regularization Parameter\n",
    "b) Sigmoid is used as an activation function in the output layer and relu in the hidden layers.\n",
    "c) Binary Cross Entrophy is used as loss Function'''\n",
    "\n",
    "def build_classifier(optimizer):\n",
    "    classifier = tf.keras.models.Sequential()\n",
    "    classifier.add(tf.keras.layers.Dense(units=6, activation='relu'))\n",
    "    classifier.add(tf.keras.layers.Dropout(0.2))\n",
    "    classifier.add(tf.keras.layers.Dense(units=6, activation='relu'))\n",
    "    classifier.add(tf.keras.layers.Dropout(0.2))\n",
    "    classifier.add(tf.keras.layers.Dense(units=1, activation='sigmoid'))\n",
    "        \n",
    "    classifier.compile(optimizer = optimizer, loss = 'binary_crossentropy', metrics = ['accuracy'])\n",
    "    return classifier\n",
    "\n",
    "#Finding the best set of Hyperparameters for the ANN model with 5-Fold Cross Validation.\n",
    "def grid_search(features_train, target_train):\n",
    "    model = KerasClassifier(build_fn = build_classifier)\n",
    "    grid_search = GridSearchCV(estimator = model,\n",
    "                                param_grid = parameters,\n",
    "                                scoring = 'accuracy',\n",
    "                                cv = 5)\n",
    "\n",
    "    grid_search = grid_search.fit(features_train, target_train)\n",
    "    best_parameters = grid_search.best_params_\n",
    "    best_accuracy = grid_search.best_score_  \n",
    "        \n",
    "    return best_parameters"
   ]
  }
 ],
 "metadata": {
  "kernelspec": {
   "display_name": "tensor-gpu",
   "language": "python",
   "name": "tensor-gpu"
  },
  "language_info": {
   "codemirror_mode": {
    "name": "ipython",
    "version": 3
   },
   "file_extension": ".py",
   "mimetype": "text/x-python",
   "name": "python",
   "nbconvert_exporter": "python",
   "pygments_lexer": "ipython3",
   "version": "3.7.7"
  }
 },
 "nbformat": 4,
 "nbformat_minor": 4
}
